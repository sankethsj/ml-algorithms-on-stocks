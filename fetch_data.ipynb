{
 "cells": [
  {
   "cell_type": "code",
   "execution_count": 1,
   "metadata": {},
   "outputs": [],
   "source": [
    "import math\n",
    "import os\n",
    "import pandas as pd\n",
    "import numpy as np\n",
    "import matplotlib.pyplot as plt"
   ]
  },
  {
   "cell_type": "code",
   "execution_count": 2,
   "metadata": {},
   "outputs": [],
   "source": [
    "dfs = []\n",
    "for file in os.listdir('data'):\n",
    "    if file.startswith('data'):\n",
    "        df = pd.read_csv(f'data/{file}')\n",
    "        dfs.append(df)"
   ]
  },
  {
   "cell_type": "code",
   "execution_count": 3,
   "metadata": {},
   "outputs": [],
   "source": [
    "df = pd.concat(dfs, ignore_index=True)"
   ]
  },
  {
   "cell_type": "code",
   "execution_count": 4,
   "metadata": {},
   "outputs": [],
   "source": [
    "df['Date']= pd.to_datetime(df['Date'])\n",
    "df.drop_duplicates('Date', inplace=True)\n",
    "df.sort_values('Date', inplace=True)\n",
    "df.set_index('Date', inplace=True)"
   ]
  },
  {
   "cell_type": "code",
   "execution_count": 5,
   "metadata": {},
   "outputs": [],
   "source": [
    "df['Pct'] = ((df['Close'] - df['Open'])/df['Close'])*100"
   ]
  },
  {
   "cell_type": "code",
   "execution_count": 6,
   "metadata": {},
   "outputs": [
    {
     "data": {
      "text/html": [
       "<div>\n",
       "<style scoped>\n",
       "    .dataframe tbody tr th:only-of-type {\n",
       "        vertical-align: middle;\n",
       "    }\n",
       "\n",
       "    .dataframe tbody tr th {\n",
       "        vertical-align: top;\n",
       "    }\n",
       "\n",
       "    .dataframe thead th {\n",
       "        text-align: right;\n",
       "    }\n",
       "</style>\n",
       "<table border=\"1\" class=\"dataframe\">\n",
       "  <thead>\n",
       "    <tr style=\"text-align: right;\">\n",
       "      <th></th>\n",
       "      <th>Open</th>\n",
       "      <th>High</th>\n",
       "      <th>Low</th>\n",
       "      <th>Close</th>\n",
       "      <th>Shares Traded</th>\n",
       "      <th>Turnover (Rs. Cr)</th>\n",
       "      <th>Pct</th>\n",
       "    </tr>\n",
       "    <tr>\n",
       "      <th>Date</th>\n",
       "      <th></th>\n",
       "      <th></th>\n",
       "      <th></th>\n",
       "      <th></th>\n",
       "      <th></th>\n",
       "      <th></th>\n",
       "      <th></th>\n",
       "    </tr>\n",
       "  </thead>\n",
       "  <tbody>\n",
       "    <tr>\n",
       "      <th>2009-05-26</th>\n",
       "      <td>7072.70</td>\n",
       "      <td>7142.05</td>\n",
       "      <td>6813.10</td>\n",
       "      <td>6851.10</td>\n",
       "      <td>25573104</td>\n",
       "      <td>1732.34</td>\n",
       "      <td>-3.234517</td>\n",
       "    </tr>\n",
       "    <tr>\n",
       "      <th>2009-05-27</th>\n",
       "      <td>7013.80</td>\n",
       "      <td>7234.05</td>\n",
       "      <td>7013.80</td>\n",
       "      <td>7215.20</td>\n",
       "      <td>26964148</td>\n",
       "      <td>1928.57</td>\n",
       "      <td>2.791329</td>\n",
       "    </tr>\n",
       "    <tr>\n",
       "      <th>2009-05-28</th>\n",
       "      <td>7202.35</td>\n",
       "      <td>7376.05</td>\n",
       "      <td>7143.40</td>\n",
       "      <td>7338.60</td>\n",
       "      <td>42525652</td>\n",
       "      <td>2989.31</td>\n",
       "      <td>1.856621</td>\n",
       "    </tr>\n",
       "    <tr>\n",
       "      <th>2009-05-29</th>\n",
       "      <td>7373.90</td>\n",
       "      <td>7496.75</td>\n",
       "      <td>7362.90</td>\n",
       "      <td>7416.00</td>\n",
       "      <td>31676768</td>\n",
       "      <td>2083.5</td>\n",
       "      <td>0.567691</td>\n",
       "    </tr>\n",
       "    <tr>\n",
       "      <th>2009-06-01</th>\n",
       "      <td>7559.30</td>\n",
       "      <td>7559.30</td>\n",
       "      <td>7287.15</td>\n",
       "      <td>7364.05</td>\n",
       "      <td>31978183</td>\n",
       "      <td>2098.04</td>\n",
       "      <td>-2.651394</td>\n",
       "    </tr>\n",
       "    <tr>\n",
       "      <th>...</th>\n",
       "      <td>...</td>\n",
       "      <td>...</td>\n",
       "      <td>...</td>\n",
       "      <td>...</td>\n",
       "      <td>...</td>\n",
       "      <td>...</td>\n",
       "      <td>...</td>\n",
       "    </tr>\n",
       "    <tr>\n",
       "      <th>2022-07-04</th>\n",
       "      <td>33558.85</td>\n",
       "      <td>33978.50</td>\n",
       "      <td>33515.60</td>\n",
       "      <td>33940.90</td>\n",
       "      <td>-</td>\n",
       "      <td>-</td>\n",
       "      <td>1.125633</td>\n",
       "    </tr>\n",
       "    <tr>\n",
       "      <th>2022-07-05</th>\n",
       "      <td>34084.70</td>\n",
       "      <td>34361.05</td>\n",
       "      <td>33757.00</td>\n",
       "      <td>33815.90</td>\n",
       "      <td>115009518</td>\n",
       "      <td>3980.84</td>\n",
       "      <td>-0.794892</td>\n",
       "    </tr>\n",
       "    <tr>\n",
       "      <th>2022-07-06</th>\n",
       "      <td>33929.40</td>\n",
       "      <td>34388.50</td>\n",
       "      <td>33876.15</td>\n",
       "      <td>34324.25</td>\n",
       "      <td>122736123</td>\n",
       "      <td>4709.36</td>\n",
       "      <td>1.150353</td>\n",
       "    </tr>\n",
       "    <tr>\n",
       "      <th>2022-07-07</th>\n",
       "      <td>34627.40</td>\n",
       "      <td>34965.75</td>\n",
       "      <td>34553.10</td>\n",
       "      <td>34920.30</td>\n",
       "      <td>183971600</td>\n",
       "      <td>5359.18</td>\n",
       "      <td>0.838767</td>\n",
       "    </tr>\n",
       "    <tr>\n",
       "      <th>2022-07-08</th>\n",
       "      <td>35258.90</td>\n",
       "      <td>35262.10</td>\n",
       "      <td>34977.75</td>\n",
       "      <td>35124.05</td>\n",
       "      <td>108960960</td>\n",
       "      <td>3898.07</td>\n",
       "      <td>-0.383925</td>\n",
       "    </tr>\n",
       "  </tbody>\n",
       "</table>\n",
       "<p>3258 rows × 7 columns</p>\n",
       "</div>"
      ],
      "text/plain": [
       "                Open      High       Low     Close    Shares Traded  \\\n",
       "Date                                                                  \n",
       "2009-05-26   7072.70   7142.05   6813.10   6851.10         25573104   \n",
       "2009-05-27   7013.80   7234.05   7013.80   7215.20         26964148   \n",
       "2009-05-28   7202.35   7376.05   7143.40   7338.60         42525652   \n",
       "2009-05-29   7373.90   7496.75   7362.90   7416.00         31676768   \n",
       "2009-06-01   7559.30   7559.30   7287.15   7364.05         31978183   \n",
       "...              ...       ...       ...       ...              ...   \n",
       "2022-07-04  33558.85  33978.50  33515.60  33940.90                -   \n",
       "2022-07-05  34084.70  34361.05  33757.00  33815.90        115009518   \n",
       "2022-07-06  33929.40  34388.50  33876.15  34324.25        122736123   \n",
       "2022-07-07  34627.40  34965.75  34553.10  34920.30        183971600   \n",
       "2022-07-08  35258.90  35262.10  34977.75  35124.05        108960960   \n",
       "\n",
       "           Turnover (Rs. Cr)       Pct  \n",
       "Date                                    \n",
       "2009-05-26           1732.34 -3.234517  \n",
       "2009-05-27           1928.57  2.791329  \n",
       "2009-05-28           2989.31  1.856621  \n",
       "2009-05-29            2083.5  0.567691  \n",
       "2009-06-01           2098.04 -2.651394  \n",
       "...                      ...       ...  \n",
       "2022-07-04                 -  1.125633  \n",
       "2022-07-05           3980.84 -0.794892  \n",
       "2022-07-06           4709.36  1.150353  \n",
       "2022-07-07           5359.18  0.838767  \n",
       "2022-07-08           3898.07 -0.383925  \n",
       "\n",
       "[3258 rows x 7 columns]"
      ]
     },
     "execution_count": 6,
     "metadata": {},
     "output_type": "execute_result"
    }
   ],
   "source": [
    "df"
   ]
  },
  {
   "cell_type": "code",
   "execution_count": 8,
   "metadata": {
    "scrolled": true
   },
   "outputs": [
    {
     "data": {
      "image/png": "[encoded data removed]",
      "text/plain": [
       "<Figure size 432x288 with 1 Axes>"
      ]
     },
     "metadata": {
      "needs_background": "light"
     },
     "output_type": "display_data"
    }
   ],
   "source": [
    "plt.plot(df[1000:].index, df[1000:]['Close'])\n",
    "plt.show()"
   ]
  },
  {
   "cell_type": "markdown",
   "metadata": {},
   "source": [
    "### Model"
   ]
  },
  {
   "cell_type": "code",
   "execution_count": 9,
   "metadata": {},
   "outputs": [],
   "source": [
    "import tensorflow as tf\n",
    "from tensorflow import keras\n",
    "from tensorflow.keras import layers\n",
    "\n",
    "from sklearn.preprocessing import MinMaxScaler "
   ]
  },
  {
   "cell_type": "code",
   "execution_count": 10,
   "metadata": {},
   "outputs": [
    {
     "data": {
      "text/plain": [
       "'2.9.1'"
      ]
     },
     "execution_count": 10,
     "metadata": {},
     "output_type": "execute_result"
    }
   ],
   "source": [
    "tf.__version__"
   ]
  },
  {
   "cell_type": "code",
   "execution_count": 11,
   "metadata": {},
   "outputs": [
    {
     "data": {
      "text/plain": [
       "2607"
      ]
     },
     "execution_count": 11,
     "metadata": {},
     "output_type": "execute_result"
    }
   ],
   "source": [
    "values = df['Close'].values\n",
    "training_data_len = math.ceil(len(values)* 0.8)\n",
    "training_data_len"
   ]
  },
  {
   "cell_type": "code",
   "execution_count": 12,
   "metadata": {},
   "outputs": [],
   "source": [
    "scaler = MinMaxScaler(feature_range=(0,1))\n",
    "scaled_data = scaler.fit_transform(values.reshape(-1,1))\n",
    "train_data = scaled_data[0: training_data_len, :]"
   ]
  },
  {
   "cell_type": "code",
   "execution_count": 13,
   "metadata": {},
   "outputs": [],
   "source": [
    "x_train = []\n",
    "y_train = []\n",
    "\n",
    "WINDOW = 60\n",
    "for i in range(WINDOW, len(train_data)):\n",
    "    x_train.append(train_data[i-WINDOW:i, 0])\n",
    "    y_train.append(train_data[i, 0])\n",
    "    \n",
    "x_train, y_train = np.array(x_train), np.array(y_train)\n",
    "x_train = np.reshape(x_train, (x_train.shape[0], x_train.shape[1], 1))"
   ]
  },
  {
   "cell_type": "code",
   "execution_count": 14,
   "metadata": {},
   "outputs": [],
   "source": [
    "test_data = scaled_data[training_data_len-WINDOW: , : ]\n",
    "x_test = []\n",
    "y_test = values[training_data_len:]\n",
    "\n",
    "for i in range(WINDOW, len(test_data)):\n",
    "    x_test.append(test_data[i-WINDOW:i, 0])\n",
    "\n",
    "x_test = np.array(x_test)\n",
    "x_test = np.reshape(x_test, (x_test.shape[0], x_test.shape[1], 1))"
   ]
  },
  {
   "cell_type": "markdown",
   "metadata": {},
   "source": [
    "### LSTM"
   ]
  },
  {
   "cell_type": "code",
   "execution_count": 15,
   "metadata": {},
   "outputs": [
    {
     "name": "stdout",
     "output_type": "stream",
     "text": [
      "Model: \"sequential\"\n",
      "_________________________________________________________________\n",
      " Layer (type)                Output Shape              Param #   \n",
      "=================================================================\n",
      " lstm (LSTM)                 (None, 60, 100)           40800     \n",
      "                                                                 \n",
      " dropout (Dropout)           (None, 60, 100)           0         \n",
      "                                                                 \n",
      " lstm_1 (LSTM)               (None, 100)               80400     \n",
      "                                                                 \n",
      " dense (Dense)               (None, 25)                2525      \n",
      "                                                                 \n",
      " dense_1 (Dense)             (None, 1)                 26        \n",
      "                                                                 \n",
      "=================================================================\n",
      "Total params: 123,751\n",
      "Trainable params: 123,751\n",
      "Non-trainable params: 0\n",
      "_________________________________________________________________\n"
     ]
    }
   ],
   "source": [
    "model = keras.Sequential()\n",
    "model.add(layers.LSTM(100, return_sequences=True, input_shape=(x_train.shape[1], 1)))\n",
    "model.add(layers.Dropout(0.2))\n",
    "model.add(layers.LSTM(100, return_sequences=False))\n",
    "model.add(layers.Dense(25))\n",
    "model.add(layers.Dense(1))\n",
    "model.summary()"
   ]
  },
  {
   "cell_type": "code",
   "execution_count": 16,
   "metadata": {},
   "outputs": [
    {
     "name": "stdout",
     "output_type": "stream",
     "text": [
      "Epoch 1/50\n",
      "2547/2547 [==============================] - 69s 25ms/step - loss: 7.7741e-04\n",
      "Epoch 2/50\n",
      "2547/2547 [==============================] - 64s 25ms/step - loss: 5.3549e-04\n",
      "Epoch 3/50\n",
      "2547/2547 [==============================] - 69s 27ms/step - loss: 3.3855e-04\n",
      "Epoch 4/50\n",
      "2547/2547 [==============================] - 72s 28ms/step - loss: 3.1811e-04\n",
      "Epoch 5/50\n",
      "2547/2547 [==============================] - 72s 28ms/step - loss: 2.6092e-04\n",
      "Epoch 6/50\n",
      "2547/2547 [==============================] - 72s 28ms/step - loss: 2.6667e-04\n",
      "Epoch 7/50\n",
      "2547/2547 [==============================] - 71s 28ms/step - loss: 2.5208e-04\n",
      "Epoch 8/50\n",
      "2547/2547 [==============================] - 71s 28ms/step - loss: 2.4092e-04\n",
      "Epoch 9/50\n",
      "2547/2547 [==============================] - 71s 28ms/step - loss: 2.1554e-04\n",
      "Epoch 10/50\n",
      "2547/2547 [==============================] - 71s 28ms/step - loss: 2.1855e-04\n",
      "Epoch 11/50\n",
      "2547/2547 [==============================] - 72s 28ms/step - loss: 1.7898e-04\n",
      "Epoch 12/50\n",
      "2547/2547 [==============================] - 72s 28ms/step - loss: 1.8157e-04\n",
      "Epoch 13/50\n",
      "2547/2547 [==============================] - 72s 28ms/step - loss: 1.8109e-04\n",
      "Epoch 14/50\n",
      "2547/2547 [==============================] - 72s 28ms/step - loss: 1.7763e-04\n",
      "Epoch 15/50\n",
      "2547/2547 [==============================] - 72s 28ms/step - loss: 1.7088e-04\n",
      "Epoch 16/50\n",
      "2547/2547 [==============================] - 72s 28ms/step - loss: 1.7144e-04\n",
      "Epoch 17/50\n",
      "2547/2547 [==============================] - 73s 29ms/step - loss: 1.6961e-04\n",
      "Epoch 18/50\n",
      "2547/2547 [==============================] - 73s 29ms/step - loss: 1.6464e-04\n",
      "Epoch 19/50\n",
      "2547/2547 [==============================] - 73s 29ms/step - loss: 1.6748e-04\n",
      "Epoch 20/50\n",
      "2547/2547 [==============================] - 73s 29ms/step - loss: 1.6072e-04\n",
      "Epoch 21/50\n",
      "2547/2547 [==============================] - 73s 29ms/step - loss: 1.3129e-04\n",
      "Epoch 22/50\n",
      "2547/2547 [==============================] - 73s 29ms/step - loss: 1.5117e-04\n",
      "Epoch 23/50\n",
      "2547/2547 [==============================] - 73s 29ms/step - loss: 1.5111e-04\n",
      "Epoch 24/50\n",
      "2547/2547 [==============================] - 73s 29ms/step - loss: 1.4176e-04\n",
      "Epoch 25/50\n",
      "2547/2547 [==============================] - 73s 29ms/step - loss: 1.3933e-04\n",
      "Epoch 26/50\n",
      "2547/2547 [==============================] - 73s 29ms/step - loss: 1.3378e-04\n",
      "Epoch 27/50\n",
      "2547/2547 [==============================] - 74s 29ms/step - loss: 1.2179e-04\n",
      "Epoch 28/50\n",
      "2547/2547 [==============================] - 73s 29ms/step - loss: 1.3985e-04\n",
      "Epoch 29/50\n",
      "2547/2547 [==============================] - 74s 29ms/step - loss: 1.2766e-04\n",
      "Epoch 30/50\n",
      "2547/2547 [==============================] - 74s 29ms/step - loss: 1.2629e-04\n",
      "Epoch 31/50\n",
      "2547/2547 [==============================] - 74s 29ms/step - loss: 1.3551e-04\n",
      "Epoch 32/50\n",
      "2547/2547 [==============================] - 74s 29ms/step - loss: 1.1851e-04\n",
      "Epoch 33/50\n",
      "2547/2547 [==============================] - 73s 29ms/step - loss: 1.2278e-04\n",
      "Epoch 34/50\n",
      "2547/2547 [==============================] - 74s 29ms/step - loss: 1.2899e-04\n",
      "Epoch 35/50\n",
      "2547/2547 [==============================] - 74s 29ms/step - loss: 1.2095e-04\n",
      "Epoch 36/50\n",
      "2547/2547 [==============================] - 74s 29ms/step - loss: 1.1780e-04\n",
      "Epoch 37/50\n",
      "2547/2547 [==============================] - 74s 29ms/step - loss: 1.2692e-04\n",
      "Epoch 38/50\n",
      "2547/2547 [==============================] - 74s 29ms/step - loss: 1.2213e-04\n",
      "Epoch 39/50\n",
      "2547/2547 [==============================] - 75s 29ms/step - loss: 1.1464e-04\n",
      "Epoch 40/50\n",
      "2547/2547 [==============================] - 76s 30ms/step - loss: 1.2118e-04\n",
      "Epoch 41/50\n",
      "2547/2547 [==============================] - 75s 29ms/step - loss: 1.1945e-04\n",
      "Epoch 42/50\n",
      "2547/2547 [==============================] - 74s 29ms/step - loss: 1.1206e-04\n",
      "Epoch 43/50\n",
      "2547/2547 [==============================] - 74s 29ms/step - loss: 1.1885e-04\n",
      "Epoch 44/50\n",
      "2547/2547 [==============================] - 75s 29ms/step - loss: 1.2057e-04\n",
      "Epoch 45/50\n",
      "2547/2547 [==============================] - 75s 29ms/step - loss: 1.0835e-04\n",
      "Epoch 46/50\n",
      "2547/2547 [==============================] - 75s 29ms/step - loss: 1.0876e-04\n",
      "Epoch 47/50\n",
      "2547/2547 [==============================] - 75s 29ms/step - loss: 1.0840e-04\n",
      "Epoch 48/50\n",
      "2547/2547 [==============================] - 76s 30ms/step - loss: 1.1142e-04\n",
      "Epoch 49/50\n",
      "2547/2547 [==============================] - 77s 30ms/step - loss: 1.1246e-04\n",
      "Epoch 50/50\n",
      "2547/2547 [==============================] - 76s 30ms/step - loss: 1.0862e-04\n"
     ]
    },
    {
     "data": {
      "text/plain": [
       "<keras.callbacks.History at 0x23f18ca7dc0>"
      ]
     },
     "execution_count": 16,
     "metadata": {},
     "output_type": "execute_result"
    }
   ],
   "source": [
    "model.compile(optimizer='adam', loss='mean_squared_error')\n",
    "model.fit(x_train, y_train, batch_size = 1, epochs = 50)"
   ]
  },
  {
   "cell_type": "code",
   "execution_count": 17,
   "metadata": {},
   "outputs": [
    {
     "name": "stdout",
     "output_type": "stream",
     "text": [
      "21/21 [==============================] - 2s 33ms/step\n"
     ]
    },
    {
     "data": {
      "text/plain": [
       "1280.1359705021114"
      ]
     },
     "execution_count": 17,
     "metadata": {},
     "output_type": "execute_result"
    }
   ],
   "source": [
    "predictions = model.predict(x_test)\n",
    "predictions = scaler.inverse_transform(predictions)\n",
    "rmse = np.sqrt(np.mean(predictions - y_test)**2)\n",
    "rmse"
   ]
  },
  {
   "cell_type": "code",
   "execution_count": 18,
   "metadata": {},
   "outputs": [
    {
     "name": "stderr",
     "output_type": "stream",
     "text": [
      "<ipython-input-18-349a6251f481>:4: SettingWithCopyWarning: \n",
      "A value is trying to be set on a copy of a slice from a DataFrame.\n",
      "Try using .loc[row_indexer,col_indexer] = value instead\n",
      "\n",
      "See the caveats in the documentation: https://pandas.pydata.org/pandas-docs/stable/user_guide/indexing.html#returning-a-view-versus-a-copy\n",
      "  validation['Predictions'] = predictions\n"
     ]
    },
    {
     "data": {
      "image/png": "[encoded data removed]",
      "text/plain": [
       "<Figure size 1152x576 with 1 Axes>"
      ]
     },
     "metadata": {
      "needs_background": "light"
     },
     "output_type": "display_data"
    }
   ],
   "source": [
    "data = df.filter(['Close'])\n",
    "train = data[:training_data_len]\n",
    "validation = data[training_data_len:]\n",
    "validation['Predictions'] = predictions\n",
    "plt.figure(figsize=(16,8))\n",
    "plt.title('Model')\n",
    "plt.xlabel('Date')\n",
    "plt.ylabel('Close Price (INR)')\n",
    "plt.plot(train)\n",
    "plt.plot(validation[['Close', 'Predictions']])\n",
    "plt.legend(['Train', 'Val', 'Predictions'], loc='lower right')\n",
    "plt.show()"
   ]
  },
  {
   "cell_type": "code",
   "execution_count": 19,
   "metadata": {},
   "outputs": [],
   "source": [
    "model.save('model/lstm_bnf_model_v4.h5', save_format='h5')"
   ]
  },
  {
   "cell_type": "code",
   "execution_count": 20,
   "metadata": {},
   "outputs": [],
   "source": [
    "import pickle\n",
    "pickle.dump(scaler, open('model/MinMaxScaler_v4.pkl', 'wb'))"
   ]
  },
  {
   "cell_type": "code",
   "execution_count": null,
   "metadata": {},
   "outputs": [],
   "source": []
  }
 ],
 "metadata": {
  "kernelspec": {
   "display_name": "Python 3",
   "language": "python",
   "name": "python3"
  },
  "language_info": {
   "codemirror_mode": {
    "name": "ipython",
    "version": 3
   },
   "file_extension": ".py",
   "mimetype": "text/x-python",
   "name": "python",
   "nbconvert_exporter": "python",
   "pygments_lexer": "ipython3",
   "version": "3.9.2"
  },
  "vscode": {
   "interpreter": {
    "hash": "93aef3013a15eff4702ce26c902c629a92cf59d10afcc52642e52a5f2f528a8c"
   }
  }
 },
 "nbformat": 4,
 "nbformat_minor": 2
}
