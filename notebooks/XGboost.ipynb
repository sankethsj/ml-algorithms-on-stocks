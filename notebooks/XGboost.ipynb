{
 "cells": [
  {
   "cell_type": "code",
   "execution_count": 1,
   "metadata": {},
   "outputs": [],
   "source": [
    "from numpy import asarray\n",
    "from pandas import read_csv\n",
    "from pandas import DataFrame\n",
    "from pandas import concat\n",
    "from sklearn.metrics import mean_absolute_error\n",
    "from xgboost import XGBRegressor\n",
    "from matplotlib import pyplot"
   ]
  },
  {
   "cell_type": "code",
   "execution_count": 2,
   "metadata": {},
   "outputs": [],
   "source": [
    "# transform a time series dataset into a supervised learning dataset\n",
    "def series_to_supervised(data, n_in=1, n_out=1, dropnan=True):\n",
    "\tn_vars = 1 if type(data) is list else data.shape[1]\n",
    "\tdf = DataFrame(data)\n",
    "\tcols = list()\n",
    "\t# input sequence (t-n, ... t-1)\n",
    "\tfor i in range(n_in, 0, -1):\n",
    "\t\tcols.append(df.shift(i))\n",
    "\t# forecast sequence (t, t+1, ... t+n)\n",
    "\tfor i in range(0, n_out):\n",
    "\t\tcols.append(df.shift(-i))\n",
    "\t# put it all together\n",
    "\tagg = concat(cols, axis=1)\n",
    "\t# drop rows with NaN values\n",
    "\tif dropnan:\n",
    "\t\tagg.dropna(inplace=True)\n",
    "\treturn agg.values\n",
    "\n",
    "# split a univariate dataset into train/test sets\n",
    "def train_test_split(data, n_test):\n",
    "\treturn data[:-n_test, :], data[-n_test:, :]\n",
    "\n",
    "# fit an xgboost model and make a one step prediction\n",
    "def xgboost_forecast(train, testX):\n",
    "\t# transform list into array\n",
    "\ttrain = asarray(train)\n",
    "\t# split into input and output columns\n",
    "\ttrainX, trainy = train[:, :-1], train[:, -1]\n",
    "\t# fit model\n",
    "\tmodel = XGBRegressor(objective='reg:squarederror', n_estimators=1000)\n",
    "\tmodel.fit(trainX, trainy)\n",
    "\t# make a one-step prediction\n",
    "\tyhat = model.predict(asarray([testX]))\n",
    "\treturn yhat[0]\n",
    "\n",
    "# walk-forward validation for univariate data\n",
    "def walk_forward_validation(data, n_test):\n",
    "\tpredictions = list()\n",
    "\t# split dataset\n",
    "\ttrain, test = train_test_split(data, n_test)\n",
    "\t# seed history with training dataset\n",
    "\thistory = [x for x in train]\n",
    "\t# step over each time-step in the test set\n",
    "\tfor i in range(len(test)):\n",
    "\t\t# split test row into input and output columns\n",
    "\t\ttestX, testy = test[i, :-1], test[i, -1]\n",
    "\t\t# fit model on history and make a prediction\n",
    "\t\tyhat = xgboost_forecast(history, testX)\n",
    "\t\t# store forecast in list of predictions\n",
    "\t\tpredictions.append(yhat)\n",
    "\t\t# add actual observation to history for the next loop\n",
    "\t\thistory.append(test[i])\n",
    "\t\t# summarize progress\n",
    "\t\tprint('>>expected = %.1f, predicted = %.1f' % (testy, yhat),\">>\",int(testy-yhat))\n",
    "\t# estimate prediction error\n",
    "\terror = mean_absolute_error(test[:, -1], predictions)\n",
    "\treturn error, test[:, -1], predictions"
   ]
  },
  {
   "cell_type": "code",
   "execution_count": 6,
   "metadata": {},
   "outputs": [
    {
     "name": "stdout",
     "output_type": "stream",
     "text": [
      ">>expected = 37235.8, predicted = 36953.5 >> 282\n",
      ">>expected = 36944.7, predicted = 36788.3 >> 156\n",
      ">>expected = 37771.7, predicted = 36876.2 >> 895\n",
      ">>expected = 37830.3, predicted = 37623.8 >> 206\n",
      ">>expected = 38171.2, predicted = 37280.8 >> 890\n",
      ">>expected = 37945.0, predicted = 38018.6 >> -73\n",
      ">>expected = 37743.0, predicted = 37946.9 >> -203\n",
      ">>expected = 37425.1, predicted = 37624.5 >> -199\n",
      ">>expected = 37225.9, predicted = 37281.6 >> -55\n",
      ">>expected = 37579.7, predicted = 36912.4 >> 667\n",
      ">>expected = 37741.0, predicted = 37731.0 >> 10\n",
      ">>expected = 37521.6, predicted = 37493.8 >> 27\n",
      ">>expected = 37753.2, predicted = 37530.0 >> 223\n",
      ">>expected = 37775.2, predicted = 37503.2 >> 272\n",
      ">>expected = 38293.8, predicted = 37643.9 >> 649\n",
      ">>expected = 38521.5, predicted = 38170.3 >> 351\n",
      ">>expected = 38635.8, predicted = 37868.1 >> 767\n",
      ">>expected = 39340.9, predicted = 38632.4 >> 708\n",
      ">>expected = 39684.8, predicted = 39337.7 >> 347\n",
      ">>expected = 39540.5, predicted = 39682.4 >> -141\n",
      "MAE: 356.507\n"
     ]
    }
   ],
   "source": [
    "# load the dataset\n",
    "series = read_csv('bnf_10_year_data.csv', header=0, index_col=0)\n",
    "values = series.values\n",
    "# transform the time series data into supervised learning\n",
    "data = series_to_supervised(values, n_in=2)\n",
    "# evaluate\n",
    "mae, y, yhat = walk_forward_validation(data, 20)\n",
    "print('MAE: %.3f' % mae)"
   ]
  },
  {
   "cell_type": "code",
   "execution_count": 7,
   "metadata": {},
   "outputs": [
    {
     "data": {
      "image/png": "[encoded data removed]",
      "text/plain": [
       "<Figure size 432x288 with 1 Axes>"
      ]
     },
     "metadata": {
      "needs_background": "light"
     },
     "output_type": "display_data"
    }
   ],
   "source": [
    "# plot expected vs preducted\n",
    "pyplot.plot(y, label='Expected')\n",
    "pyplot.plot(yhat, label='Predicted')\n",
    "pyplot.legend()\n",
    "pyplot.show()"
   ]
  },
  {
   "cell_type": "code",
   "execution_count": 25,
   "metadata": {},
   "outputs": [],
   "source": [
    "# series = read_csv('bnf_10_year_data.csv', header=0, index_col=0)\n",
    "# values = series.values\n",
    "# # transform the time series data into supervised learning\n",
    "# data = series_to_supervised(values, n_in=4)\n",
    "# train, test = train_test_split(data, 100)"
   ]
  },
  {
   "cell_type": "code",
   "execution_count": 14,
   "metadata": {},
   "outputs": [
    {
     "data": {
      "text/plain": [
       "(2977, 100)"
      ]
     },
     "execution_count": 14,
     "metadata": {},
     "output_type": "execute_result"
    }
   ],
   "source": [
    "# len(train), len(test)"
   ]
  },
  {
   "cell_type": "code",
   "execution_count": 2,
   "metadata": {},
   "outputs": [],
   "source": [
    "# import pandas as pd\n",
    "# import numpy as np\n",
    "# import tensorflow as tf\n",
    "# from model import levenberg_marquardt as lm"
   ]
  },
  {
   "cell_type": "code",
   "execution_count": 48,
   "metadata": {},
   "outputs": [
    {
     "name": "stdout",
     "output_type": "stream",
     "text": [
      "Model: \"sequential_1\"\n",
      "_________________________________________________________________\n",
      "Layer (type)                 Output Shape              Param #   \n",
      "=================================================================\n",
      "dense_2 (Dense)              (None, 20)                40        \n",
      "_________________________________________________________________\n",
      "dense_3 (Dense)              (None, 1)                 21        \n",
      "=================================================================\n",
      "Total params: 61\n",
      "Trainable params: 61\n",
      "Non-trainable params: 0\n",
      "_________________________________________________________________\n"
     ]
    }
   ],
   "source": [
    "# model = tf.keras.Sequential([\n",
    "#     tf.keras.layers.Dense(20, activation='tanh', input_shape=(1,)),\n",
    "#     tf.keras.layers.Dense(1, activation='linear')])\n",
    "\n",
    "# model.summary()\n",
    "\n",
    "# model.compile(\n",
    "#     optimizer=tf.keras.optimizers.Adam(learning_rate=0.01),\n",
    "#     loss=tf.keras.losses.MeanSquaredError())"
   ]
  },
  {
   "cell_type": "code",
   "execution_count": 49,
   "metadata": {},
   "outputs": [],
   "source": [
    "# x_train = train[:,:4]\n",
    "# y_train = train[:,4]"
   ]
  },
  {
   "cell_type": "code",
   "execution_count": 50,
   "metadata": {},
   "outputs": [],
   "source": [
    "# x_train = tf.expand_dims(tf.cast(x_train, tf.float32), axis=-1)\n",
    "# y_train = tf.expand_dims(tf.cast(y_train, tf.float32), axis=-1)\n",
    "\n",
    "# train_dataset = tf.data.Dataset.from_tensor_slices((x_train, y_train))"
   ]
  },
  {
   "cell_type": "code",
   "execution_count": 51,
   "metadata": {},
   "outputs": [
    {
     "name": "stdout",
     "output_type": "stream",
     "text": [
      "Epoch 1/5\n",
      "2974/2974 [==============================] - 9s 1ms/step - loss: 359140416.0000\n"
     ]
    },
    {
     "name": "stderr",
     "output_type": "stream",
     "text": [
      "Exception ignored in: <function WeakKeyDictionary.__init__.<locals>.remove at 0x0000024AA5595CA0>\n",
      "Traceback (most recent call last):\n",
      "  File \"C:\\Users\\sanke\\AppData\\Local\\Programs\\Python\\Python39\\lib\\weakref.py\", line 368, in remove\n",
      "    self = selfref()\n",
      "KeyboardInterrupt: \n"
     ]
    },
    {
     "name": "stdout",
     "output_type": "stream",
     "text": [
      "Epoch 2/5\n",
      "2974/2974 [==============================] - 3s 1ms/step - loss: 338359392.0000\n",
      "Epoch 3/5\n",
      "2974/2974 [==============================] - 3s 959us/step - loss: 319469056.0000\n",
      "Epoch 4/5\n",
      "2974/2974 [==============================] - 3s 925us/step - loss: 301359136.0000\n",
      "Epoch 5/5\n",
      "2974/2974 [==============================] - 3s 919us/step - loss: 283997376.0000\n"
     ]
    },
    {
     "data": {
      "text/plain": [
       "<tensorflow.python.keras.callbacks.History at 0x24abcf1fa90>"
      ]
     },
     "execution_count": 51,
     "metadata": {},
     "output_type": "execute_result"
    }
   ],
   "source": [
    "# model.fit(train_dataset, epochs=5)"
   ]
  }
 ],
 "metadata": {
  "interpreter": {
   "hash": "28087281665a652bda520a268fa2d404246e207b0dcef5d9110f6db87d9c6142"
  },
  "kernelspec": {
   "display_name": "Python 3",
   "language": "python",
   "name": "python3"
  },
  "language_info": {
   "codemirror_mode": {
    "name": "ipython",
    "version": 3
   },
   "file_extension": ".py",
   "mimetype": "text/x-python",
   "name": "python",
   "nbconvert_exporter": "python",
   "pygments_lexer": "ipython3",
   "version": "3.9.2"
  }
 },
 "nbformat": 4,
 "nbformat_minor": 2
}
