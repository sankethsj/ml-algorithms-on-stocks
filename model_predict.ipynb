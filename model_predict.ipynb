{
 "cells": [
  {
   "cell_type": "code",
   "execution_count": 1,
   "id": "4b3329ad",
   "metadata": {},
   "outputs": [
    {
     "data": {
      "text/plain": [
       "'2.9.1'"
      ]
     },
     "execution_count": 1,
     "metadata": {},
     "output_type": "execute_result"
    }
   ],
   "source": [
    "import pandas as pd\n",
    "\n",
    "import pickle\n",
    "import tensorflow as tf\n",
    "tf.__version__"
   ]
  },
  {
   "cell_type": "code",
   "execution_count": 2,
   "id": "a13d1301",
   "metadata": {},
   "outputs": [],
   "source": [
    "model_filepath = 'model.v2/lstm_bnf_model.h5'\n",
    "scaler_filepath = 'model.v2/MinMaxScaler.pkl'"
   ]
  },
  {
   "cell_type": "code",
   "execution_count": 3,
   "id": "6682cde2",
   "metadata": {},
   "outputs": [],
   "source": [
    "model = tf.keras.models.load_model(\n",
    "    model_filepath, custom_objects=None, compile=True, options=None\n",
    ")"
   ]
  },
  {
   "cell_type": "code",
   "execution_count": 4,
   "id": "19034fc1",
   "metadata": {},
   "outputs": [],
   "source": [
    "scaler = pickle.load(open(scaler_filepath, 'rb'))"
   ]
  },
  {
   "cell_type": "code",
   "execution_count": 5,
   "id": "dc14f280",
   "metadata": {},
   "outputs": [],
   "source": [
    "df = pd.read_csv('10_year_bnf_data.csv')\n",
    "df100 = df[3158:][['Date','Close']]"
   ]
  },
  {
   "cell_type": "code",
   "execution_count": 6,
   "id": "e110f976",
   "metadata": {},
   "outputs": [
    {
     "data": {
      "text/html": [
       "<div>\n",
       "<style scoped>\n",
       "    .dataframe tbody tr th:only-of-type {\n",
       "        vertical-align: middle;\n",
       "    }\n",
       "\n",
       "    .dataframe tbody tr th {\n",
       "        vertical-align: top;\n",
       "    }\n",
       "\n",
       "    .dataframe thead th {\n",
       "        text-align: right;\n",
       "    }\n",
       "</style>\n",
       "<table border=\"1\" class=\"dataframe\">\n",
       "  <thead>\n",
       "    <tr style=\"text-align: right;\">\n",
       "      <th></th>\n",
       "      <th>Date</th>\n",
       "      <th>Close</th>\n",
       "    </tr>\n",
       "  </thead>\n",
       "  <tbody>\n",
       "    <tr>\n",
       "      <th>3158</th>\n",
       "      <td>2022-02-14</td>\n",
       "      <td>36908.55</td>\n",
       "    </tr>\n",
       "    <tr>\n",
       "      <th>3159</th>\n",
       "      <td>2022-02-15</td>\n",
       "      <td>38170.10</td>\n",
       "    </tr>\n",
       "    <tr>\n",
       "      <th>3160</th>\n",
       "      <td>2022-02-16</td>\n",
       "      <td>37953.80</td>\n",
       "    </tr>\n",
       "    <tr>\n",
       "      <th>3161</th>\n",
       "      <td>2022-02-17</td>\n",
       "      <td>37531.65</td>\n",
       "    </tr>\n",
       "    <tr>\n",
       "      <th>3162</th>\n",
       "      <td>2022-02-18</td>\n",
       "      <td>37599.15</td>\n",
       "    </tr>\n",
       "    <tr>\n",
       "      <th>...</th>\n",
       "      <td>...</td>\n",
       "      <td>...</td>\n",
       "    </tr>\n",
       "    <tr>\n",
       "      <th>3253</th>\n",
       "      <td>2022-07-04</td>\n",
       "      <td>33940.90</td>\n",
       "    </tr>\n",
       "    <tr>\n",
       "      <th>3254</th>\n",
       "      <td>2022-07-05</td>\n",
       "      <td>33815.90</td>\n",
       "    </tr>\n",
       "    <tr>\n",
       "      <th>3255</th>\n",
       "      <td>2022-07-06</td>\n",
       "      <td>34324.25</td>\n",
       "    </tr>\n",
       "    <tr>\n",
       "      <th>3256</th>\n",
       "      <td>2022-07-07</td>\n",
       "      <td>34920.30</td>\n",
       "    </tr>\n",
       "    <tr>\n",
       "      <th>3257</th>\n",
       "      <td>2022-07-08</td>\n",
       "      <td>35124.05</td>\n",
       "    </tr>\n",
       "  </tbody>\n",
       "</table>\n",
       "<p>100 rows × 2 columns</p>\n",
       "</div>"
      ],
      "text/plain": [
       "            Date     Close\n",
       "3158  2022-02-14  36908.55\n",
       "3159  2022-02-15  38170.10\n",
       "3160  2022-02-16  37953.80\n",
       "3161  2022-02-17  37531.65\n",
       "3162  2022-02-18  37599.15\n",
       "...          ...       ...\n",
       "3253  2022-07-04  33940.90\n",
       "3254  2022-07-05  33815.90\n",
       "3255  2022-07-06  34324.25\n",
       "3256  2022-07-07  34920.30\n",
       "3257  2022-07-08  35124.05\n",
       "\n",
       "[100 rows x 2 columns]"
      ]
     },
     "execution_count": 6,
     "metadata": {},
     "output_type": "execute_result"
    }
   ],
   "source": [
    "data = df100['Close'].values\n",
    "df100"
   ]
  },
  {
   "cell_type": "code",
   "execution_count": 7,
   "id": "b1795dfe",
   "metadata": {},
   "outputs": [],
   "source": [
    "def predict(input_data):\n",
    "    if len(input_data) != 60:\n",
    "        raise ValueError(\"Require past 60 days of data to predict using this model\")\n",
    "    input_data = input_data.reshape(-1,1)\n",
    "    scaled_input = scaler.fit_transform(input_data)\n",
    "    reshaped_input = scaled_input.reshape(1,60,1)\n",
    "    \n",
    "    pred = model.predict(reshaped_input)\n",
    "    pred = scaler.inverse_transform(pred)\n",
    "    \n",
    "    return pred"
   ]
  },
  {
   "cell_type": "code",
   "execution_count": 8,
   "id": "b90fc9ef",
   "metadata": {},
   "outputs": [
    {
     "data": {
      "text/plain": [
       "array([36908.55, 38170.1 , 37953.8 , 37531.65, 37599.15, 37685.6 ,\n",
       "       37371.65, 37392.05, 35228.1 , 36430.75, 36205.3 , 35372.8 ,\n",
       "       34944.3 , 34407.8 , 32871.25, 33158.1 , 33815.45, 34475.6 ,\n",
       "       34546.25, 35312.15, 35022.65, 35748.25, 36428.55, 36018.5 ,\n",
       "       36348.55, 36147.35, 35527.1 , 35410.1 , 35710.5 , 35847.4 ,\n",
       "       36334.3 , 36373.6 , 37148.5 , 38635.2 , 38067.9 , 37632.8 ,\n",
       "       37557.35, 37752.05, 37613.8 , 37747.4 , 37463.4 , 36729.  ,\n",
       "       36341.6 , 36314.9 , 36816.1 , 36044.75, 36082.35, 36404.8 ,\n",
       "       36028.85, 36422.2 , 36088.15, 36163.75, 35264.55, 35232.85,\n",
       "       34591.2 , 34275.4 , 34482.65, 34693.15, 33532.15, 33121.35,\n",
       "       33597.6 , 34301.9 , 34163.7 , 33315.65, 34276.4 , 34247.6 ,\n",
       "       34290.15, 34339.5 , 35094.9 , 35613.3 , 35826.95, 35487.4 ,\n",
       "       35620.8 , 35613.65, 35275.05, 35310.2 , 34996.  , 34946.15,\n",
       "       35085.45, 34483.8 , 33405.85, 33311.35, 33339.  , 32617.1 ,\n",
       "       32743.05, 32684.8 , 33191.75, 32845.3 , 33135.  , 33627.45,\n",
       "       33811.25, 33642.45, 33269.9 , 33425.1 , 33539.45, 33940.9 ,\n",
       "       33815.9 , 34324.25, 34920.3 , 35124.05])"
      ]
     },
     "execution_count": 8,
     "metadata": {},
     "output_type": "execute_result"
    }
   ],
   "source": [
    "data = df100['Close'].values\n",
    "data"
   ]
  },
  {
   "cell_type": "code",
   "execution_count": 9,
   "id": "9236f851",
   "metadata": {},
   "outputs": [
    {
     "name": "stdout",
     "output_type": "stream",
     "text": [
      "1/1 [==============================] - 2s 2s/step\n"
     ]
    },
    {
     "data": {
      "text/plain": [
       "array([[35028.023]], dtype=float32)"
      ]
     },
     "execution_count": 9,
     "metadata": {},
     "output_type": "execute_result"
    }
   ],
   "source": [
    "predict(data[-60:])"
   ]
  },
  {
   "cell_type": "code",
   "execution_count": null,
   "id": "aeeb8d58",
   "metadata": {},
   "outputs": [],
   "source": []
  }
 ],
 "metadata": {
  "kernelspec": {
   "display_name": "Python 3.9.2 64-bit",
   "language": "python",
   "name": "python3"
  },
  "language_info": {
   "codemirror_mode": {
    "name": "ipython",
    "version": 3
   },
   "file_extension": ".py",
   "mimetype": "text/x-python",
   "name": "python",
   "nbconvert_exporter": "python",
   "pygments_lexer": "ipython3",
   "version": "3.9.2"
  },
  "vscode": {
   "interpreter": {
    "hash": "93aef3013a15eff4702ce26c902c629a92cf59d10afcc52642e52a5f2f528a8c"
   }
  }
 },
 "nbformat": 4,
 "nbformat_minor": 5
}
